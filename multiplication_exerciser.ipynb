{
 "cells": [
  {
   "cell_type": "code",
   "execution_count": null,
   "metadata": {},
   "outputs": [],
   "source": [
    "from google_speech import Speech\n",
    "\n",
    "# say \"Hello World\"\n",
    "text = \"Hello World\"\n",
    "lang = \"en\"\n",
    "speech = Speech(text, lang)\n",
    "speech.play()\n",
    "\n",
    "# you can also apply audio effects while playing (using SoX)\n",
    "# see http://sox.sourceforge.net/sox.html#EFFECTS for full effect documentation\n",
    "sox_effects = (\"speed\", \"1.5\")\n",
    "speech.play(sox_effects)\n",
    "\n",
    "# save the speech to an MP3 file (no effect is applied)\n",
    "speech.save(\"output.mp3\")\n"
   ]
  },
  {
   "cell_type": "code",
   "execution_count": null,
   "metadata": {},
   "outputs": [],
   "source": [
    "import random \n",
    "def gen_multiplication():\n",
    "    left_number = random.randrange(1, 10)\n",
    "    right_number = random.randrange(1, 10)\n",
    "    expected_res = left_number * right_number\n",
    "    # TODO: translate number into string (ie language translation 1 => un, 2 => deux, etc.)\n",
    "    return str(left_number) + \" multiplié par \" + str(right_number) + \" est égal à \" + str(expected_res)\n",
    "\n",
    "[gen_multiplication() for i in range(0, 10)]\n"
   ]
  },
  {
   "cell_type": "code",
   "execution_count": null,
   "metadata": {},
   "outputs": [],
   "source": [
    "def gen_addition():\n",
    "    left_number = random.randrange(1, 10)\n",
    "    right_number = random.randrange(1, 10)\n",
    "    expected_res = left_number + right_number\n",
    "    # TODO: translate number into string (ie language translation 1 => un, 2 => deux, etc.)\n",
    "    return str(left_number) + \" plus \" + str(right_number) + \" est égal à \" + str(expected_res)\n",
    "\n",
    "[gen_addition() for i in range(0, 10)]"
   ]
  },
  {
   "cell_type": "code",
   "execution_count": null,
   "metadata": {},
   "outputs": [],
   "source": [
    "def gen_and_play(gen_problem=\"mult\"):\n",
    "    if (gen_problem in \"mult\"):\n",
    "        multipl = gen_multiplication()\n",
    "    elif (gen_problem in \"add\"):\n",
    "        multipl = gen_addition()\n",
    "    else:\n",
    "        print(\"Ooooops\")\n",
    "        return\n",
    "    print(multipl)\n",
    "    speech = Speech(multipl, \"fr\")\n",
    "    sox_effects = (\"speed\", \"1.1\")\n",
    "    speech.play(sox_effects)\n",
    "\n",
    "[gen_and_play() for i in range(0, 10)]\n"
   ]
  },
  {
   "cell_type": "code",
   "execution_count": null,
   "metadata": {},
   "outputs": [],
   "source": [
    "[gen_and_play(gen_problem=\"add\") for i in range(0, 10)]"
   ]
  },
  {
   "cell_type": "code",
   "execution_count": null,
   "metadata": {},
   "outputs": [],
   "source": [
    "#!/usr/bin/env python3\n",
    "\n",
    "# NOTE: this example requires PyAudio because it uses the Microphone class\n",
    "\n",
    "import speech_recognition as sr\n",
    "\n",
    "# obtain audio from the microphone\n",
    "r = sr.Recognizer()\n",
    "with sr.Microphone() as source:\n",
    "    print(\"Say something!\")\n",
    "    audio = r.listen(source)\n",
    "\n",
    "# recognize speech using Sphinx\n",
    "try:\n",
    "    print(\"Sphinx thinks you said \" + r.recognize_sphinx(audio))\n",
    "except sr.UnknownValueError:\n",
    "    print(\"Sphinx could not understand audio\")\n",
    "except sr.RequestError as e:\n",
    "    print(\"Sphinx error; {0}\".format(e))"
   ]
  },
  {
   "cell_type": "code",
   "execution_count": null,
   "metadata": {},
   "outputs": [],
   "source": [
    "sr.Microphone.list_microphone_names()"
   ]
  },
  {
   "cell_type": "code",
   "execution_count": null,
   "metadata": {},
   "outputs": [],
   "source": []
  },
  {
   "cell_type": "code",
   "execution_count": null,
   "metadata": {},
   "outputs": [],
   "source": [
    "with sr.Microphone(device_index=0) as source:\n",
    "    audio = r.listen(source)\n",
    "    print(\"done\")\n",
    "    print(audio) "
   ]
  },
  {
   "cell_type": "code",
   "execution_count": null,
   "metadata": {},
   "outputs": [],
   "source": []
  },
  {
   "cell_type": "code",
   "execution_count": null,
   "metadata": {},
   "outputs": [],
   "source": []
  },
  {
   "cell_type": "code",
   "execution_count": null,
   "metadata": {},
   "outputs": [],
   "source": [
    "import pyaudio\n",
    "import wave\n",
    "\n",
    "from os import path\n",
    "\n",
    "# https://gist.github.com/mabdrabo/8678538\n",
    " \n",
    "FORMAT = pyaudio.paInt16\n",
    "CHANNELS = 2\n",
    "RATE = 44100\n",
    "CHUNK = 1024\n",
    "RECORD_SECONDS = 2\n",
    "WAVE_OUTPUT_FILENAME = \"file.wav\"\n",
    " \n",
    "audio = pyaudio.PyAudio()\n",
    " \n",
    "# start Recording\n",
    "print(\"recording...\")\n",
    "stream = audio.open(format=FORMAT, channels=CHANNELS,\n",
    "                rate=RATE, input=True,\n",
    "                frames_per_buffer=CHUNK)\n",
    "\n",
    "frames = []\n",
    " \n",
    "for i in range(0, int(RATE / CHUNK * RECORD_SECONDS)):\n",
    "    data = stream.read(CHUNK)\n",
    "    frames.append(data)\n",
    "print(\"finished recording\")\n",
    " \n",
    "# stop Recording\n",
    "stream.stop_stream()\n",
    "stream.close()\n",
    "audio.terminate()\n",
    " \n",
    "waveFile = wave.open(WAVE_OUTPUT_FILENAME, 'wb')\n",
    "waveFile.setnchannels(CHANNELS)\n",
    "waveFile.setsampwidth(audio.get_sample_size(FORMAT))\n",
    "waveFile.setframerate(RATE)\n",
    "waveFile.writeframes(b''.join(frames))\n",
    "waveFile.close()\n",
    "\n",
    "\n",
    "# https://github.com/Uberi/speech_recognition/blob/master/examples/audio_transcribe.py\n",
    "\n",
    "\n",
    "# use the audio file as the audio source\n",
    "r = sr.Recognizer()\n",
    "with sr.AudioFile(WAVE_OUTPUT_FILENAME) as source:\n",
    "    audio = r.record(source)  # read the entire audio file\n",
    "    \n",
    "try:\n",
    "    print(\"Sphinx thinks you said \" + r.recognize_sphinx(audio))\n",
    "except sr.UnknownValueError:\n",
    "    print(\"Sphinx could not understand audio\")\n",
    "except sr.RequestError as e:\n",
    "    print(\"Sphinx error; {0}\".format(e))"
   ]
  },
  {
   "cell_type": "code",
   "execution_count": null,
   "metadata": {},
   "outputs": [],
   "source": []
  }
 ],
 "metadata": {
  "kernelspec": {
   "display_name": "Python 3",
   "language": "python",
   "name": "python3"
  },
  "language_info": {
   "codemirror_mode": {
    "name": "ipython",
    "version": 3
   },
   "file_extension": ".py",
   "mimetype": "text/x-python",
   "name": "python",
   "nbconvert_exporter": "python",
   "pygments_lexer": "ipython3",
   "version": "3.7.5"
  }
 },
 "nbformat": 4,
 "nbformat_minor": 2
}
